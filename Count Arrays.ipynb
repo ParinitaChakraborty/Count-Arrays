{
 "cells": [
  {
   "cell_type": "code",
   "execution_count": 11,
   "id": "ed46f6f5",
   "metadata": {},
   "outputs": [],
   "source": [
    "from collections import defaultdict\n",
    "from collections import Counter\n",
    "def sockmerchant(n,ar):\n",
    "    paris = 0\n",
    "    count = defaultdict(int)\n",
    "    for item in ar:\n",
    "        count[item] += 1\n",
    "    for k, v in count.items():\n",
    "        pairs += v // 2\n",
    "    return pairs"
   ]
  },
  {
   "cell_type": "code",
   "execution_count": 12,
   "id": "ffae16a2",
   "metadata": {},
   "outputs": [
    {
     "name": "stdout",
     "output_type": "stream",
     "text": [
      "1 present 2 times.\n",
      "2 present 2 times.\n",
      "3 present 1 times.\n",
      "4 present 1 times.\n"
     ]
    }
   ],
   "source": [
    "ar = [1,2,3,2,4,1]\n",
    "count = Counter(ar)\n",
    "for k, v in count.items():\n",
    "    print(f'{k} present {v} times.')"
   ]
  },
  {
   "cell_type": "code",
   "execution_count": null,
   "id": "013c8431",
   "metadata": {},
   "outputs": [],
   "source": []
  }
 ],
 "metadata": {
  "kernelspec": {
   "display_name": "Python 3",
   "language": "python",
   "name": "python3"
  },
  "language_info": {
   "codemirror_mode": {
    "name": "ipython",
    "version": 3
   },
   "file_extension": ".py",
   "mimetype": "text/x-python",
   "name": "python",
   "nbconvert_exporter": "python",
   "pygments_lexer": "ipython3",
   "version": "3.8.8"
  }
 },
 "nbformat": 4,
 "nbformat_minor": 5
}
